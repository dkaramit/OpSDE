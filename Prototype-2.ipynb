{
 "cells": [
  {
   "cell_type": "markdown",
   "metadata": {},
   "source": [
    "# PDEs and their solutions\n",
    "\n",
    "General partial differential equation I would like to solve:\n",
    "$$\n",
    "G\\Big( \\vec{x}, \\; f(\\vec{x}), \\;  \\partial_{i}f(\\vec{x}), \\; \\partial_{i}\\partial_{j}f(\\vec{x}) \\Big) = 0\n",
    "$$\n",
    "for $\\vec{x} \\in [0,1]^n$ (i.e. $n$-dimentional box).\n",
    "\n",
    "In order for this to have a solution, the following must be true (the *Cauchy–Kowalevski theorem*):\n",
    "\n",
    "1.  We should be able to solve for the highest derivative. That is, there should exist an analytic $F$ so that \n",
    "$$\n",
    "\\partial_k\\partial_k f(\\vec{x})=F\\Big(\\vec{x}, f(\\vec{x}), \\partial_i f(\\vec{x}), \n",
    "\\left\\{ \\partial_i \\partial_j f(\\vec{x}) \\right\\}_{ij \\neq kk} \\Big)\n",
    "$$\n",
    "\n",
    "2. We should know:\n",
    "$$\n",
    "f(\\vec{x})\\Big|_{x_{k}=x_{k}^{(0)}} = L_{0}\\Big(\\left\\{ x_i \\right\\}_{i \\neq k}\\Big)\n",
    "\\\\\n",
    "\\partial_k f(\\vec{x})\\Big|_{x_{k}=x_{k}^{(0)}} = L_{1}\\Big(\\left\\{ x_i \\right\\}_{i \\neq k}\\Big) \n",
    "$$\n",
    "\n",
    "## Usual PDE problems\n",
    "\n",
    "In general proving that the given conditions give unique well define solution is non-trivial. However, usually, PDEs are given with some *boundary conditions* of the form\n",
    "$$\n",
    "H\\Big(\\vec{x},f(\\vec{x}),\\partial_i f(\\vec{x}) \\Big)\\Big|_{\\vec{x} \\in {\\bf S} } =0 \\;,\n",
    "$$\n",
    "with ${\\bf S}$ the boundary of the region in which we look for a solution."
   ]
  },
  {
   "cell_type": "markdown",
   "metadata": {},
   "source": [
    "## First order PDEs\n",
    "\n",
    "In this notebook, we will try to solve general first order PDE inside the $n$-dimensional box. We will assume that there are boundary conditions of the form\n",
    "$$\n",
    "H\\Big(\\vec{x},f(\\vec{x}),\\partial_i f(\\vec{x}) \\Big)\\Big|_{\\vec{x} \\in {\\bf S} } =0 \\;, \n",
    "$$\n",
    "because it will be easier to generalize to 2nd order PDEs later"
   ]
  },
  {
   "cell_type": "markdown",
   "metadata": {},
   "source": [
    "# Example\n",
    "\n",
    "As we build the code, let's try to solve the first order PDE\n",
    "$$\n",
    "\\dfrac{\\partial f}{\\partial x} +k \\dfrac{\\partial f}{\\partial y} = x\n",
    "$$\n",
    "\n",
    "Note that for such PDE we need \n",
    "\n",
    "1. An analytic function ($F$) such that $\\dfrac{\\partial f}{\\partial x} = F\\left(x,y,f, \\dfrac{\\partial f}{\\partial y}  \\right)$ or \n",
    "$\\dfrac{\\partial f}{\\partial y} = F\\left(x,y,f, \\dfrac{\\partial f}{\\partial x}  \\right)$  (which obviously holds).\n",
    "\n",
    "2. $f(x=x_0,y)=h(y)$ or $f(x,y=y_0)=g(x)$.\n",
    "\n",
    "\n",
    "The solution is \n",
    "$$\n",
    "f(x,y)=\\dfrac{1}{2}x^2 + (y-k \\ x) \\; c\n",
    "$$"
   ]
  },
  {
   "cell_type": "code",
   "execution_count": 1,
   "metadata": {},
   "outputs": [],
   "source": [
    "import numpy as np\n",
    "\n",
    "\n",
    "import matplotlib\n",
    "matplotlib.use('nbAgg')\n",
    "import matplotlib.pyplot as plt"
   ]
  },
  {
   "cell_type": "markdown",
   "metadata": {},
   "source": [
    "This is how a general function looks-like. It depends on various free parameters (${\\bf w}$) that can be adjusted in order to solve the PDE."
   ]
  },
  {
   "cell_type": "markdown",
   "metadata": {},
   "source": [
    "Example guess solution.\n",
    "In genearl, you can change ```__call__```, or pass it as argument, For the moment it is fine."
   ]
  },
  {
   "cell_type": "code",
   "execution_count": 2,
   "metadata": {},
   "outputs": [],
   "source": [
    "class Model:\n",
    "    def __init__(self,w0,dim_w,dim_x):\n",
    "        self.w=w0\n",
    "        self.dim_w=dim_w\n",
    "        self.dim_x=dim_x\n",
    "        \n",
    "        \n",
    "        self.dfdx=[0 for _1 in range(self.dim_x)]\n",
    "        \n",
    "        \n",
    "    def __call__(self,x):\n",
    "        return self.w[0]*x[0]**2 + self.w[1]*(x[1]-self.w[2]*x[0])\n",
    "    \n",
    "    def Deriv(self,x,h=1e-5):\n",
    "        \n",
    "        f0=0\n",
    "        f1=0\n",
    "        for i in range(self.dim_x):\n",
    "            x[i]+=h\n",
    "            f1=self(x)\n",
    "            \n",
    "            x[i]+=-2*h\n",
    "            f0=self(x)\n",
    "            \n",
    "            self.dfdx[i]=(f1-f0)/(2*h)\n",
    "\n"
   ]
  },
  {
   "cell_type": "code",
   "execution_count": 3,
   "metadata": {},
   "outputs": [],
   "source": [
    "guess=Model(w0=[1,1,2],\n",
    "                dim_w=3,\n",
    "                dim_x=2\n",
    "               )"
   ]
  },
  {
   "cell_type": "code",
   "execution_count": 4,
   "metadata": {},
   "outputs": [
    {
     "data": {
      "text/plain": [
       "113"
      ]
     },
     "execution_count": 4,
     "metadata": {},
     "output_type": "execute_result"
    }
   ],
   "source": [
    "guess([10,33])"
   ]
  },
  {
   "cell_type": "code",
   "execution_count": 5,
   "metadata": {},
   "outputs": [],
   "source": [
    "guess.Deriv([1,1])"
   ]
  },
  {
   "cell_type": "code",
   "execution_count": 6,
   "metadata": {},
   "outputs": [
    {
     "data": {
      "text/plain": [
       "[0.0, 1.000000000001]"
      ]
     },
     "execution_count": 6,
     "metadata": {},
     "output_type": "execute_result"
    }
   ],
   "source": [
    "guess.dfdx"
   ]
  },
  {
   "cell_type": "markdown",
   "metadata": {},
   "source": [
    "The boundary condition is a list of functions, based on Model class. \n",
    "\n",
    "For this example we can choose $f(0,y) = 0.1 \\ y$, as it uniquely  determines the solution. That is, the boundary condition can be writtes=n as a matrix of the form\n",
    "$$\n",
    "BC = \\left(\\begin{matrix} f(0,y) - 0.1 \\ y & 0 \\\\0 & 0 \\end{matrix}\\right) \\; ,\n",
    "$$\n",
    "so wou would look for solutions that obey $BC=0$.\n",
    "\n",
    "\n",
    "So, we can do something like this"
   ]
  },
  {
   "cell_type": "code",
   "execution_count": 28,
   "metadata": {},
   "outputs": [],
   "source": [
    "class BoundaryCondition:\n",
    "    def __init__(self,model):\n",
    "        self.model=model\n",
    "        \n",
    "        #zero for everything, and non-zero for the condition you want for this example \n",
    "        self.BC=[[lambda x:0,lambda x:0] for _ in range(model.dim_x)]\n",
    "        self.BC[0][0]=lambda x: model([0,x[1]]) - 0.1*x[1]\n",
    "    \n",
    "    def __call__(self,x):\n",
    "        _bc=[]\n",
    "        x0=x[:]\n",
    "        x1=x[:]\n",
    "\n",
    "        for i in range(self.model.dim_x):\n",
    "            x0[i]=0\n",
    "            x1[i]=1\n",
    "\n",
    "            _bc.append([self.BC[i][0](x0),self.BC[i][1](x1)])\n",
    "\n",
    "        return _bc"
   ]
  },
  {
   "cell_type": "code",
   "execution_count": 29,
   "metadata": {},
   "outputs": [],
   "source": [
    "BC=BoundaryCondition(guess)"
   ]
  },
  {
   "cell_type": "code",
   "execution_count": 36,
   "metadata": {},
   "outputs": [
    {
     "data": {
      "text/plain": [
       "[[1.8, 0], [0, 0]]"
      ]
     },
     "execution_count": 36,
     "metadata": {},
     "output_type": "execute_result"
    }
   ],
   "source": [
    "BC([555,2])"
   ]
  },
  {
   "cell_type": "code",
   "execution_count": null,
   "metadata": {},
   "outputs": [],
   "source": []
  },
  {
   "cell_type": "code",
   "execution_count": 24,
   "metadata": {},
   "outputs": [],
   "source": [
    "class DifferentialEquation:\n",
    "    def __init__(self,model,A,RHS,boundary_condition):\n",
    "        \n",
    "        self.model=model\n",
    "        \n",
    "        self.A=A\n",
    "        \n",
    "        self.RHS=lambda x: RHS(self.model,x)\n",
    "        \n",
    "        self.x0=x0\n",
    "        \n",
    "        self.boundary_condition=boundary_condition\n",
    "        \n",
    "        \n",
    "        self.grad=[0 for i in  range(self.model.dim_w)]\n",
    "        \n",
    "        \n",
    "        \n",
    "        \n",
    "    \n",
    "    def loss(self,x):\n",
    "        # loss at x\n",
    "        Qx=0        \n",
    "        self.model.Deriv(x)\n",
    "        RHS=self.RHS(self,x)\n",
    "        \n",
    "        for i in range(self.model.dim_fx):\n",
    "            for j in range(self.model.dim_x):\n",
    "                Qx+=(self.model.dfdx[i][j]-RHS[i][j])**2\n",
    "        \n",
    "        # loss on the boundary\n",
    "        Q_bound=0\n",
    "    \n",
    "        \n",
    "        Q=Qx/self.model.dim_x+Q_bound/N_bound\n",
    "        return Q/2.\n",
    "    \n",
    "    \n",
    "    def lossGrad(self,x,h=1e-5):\n",
    "        \n",
    "        for dim in range(self.model.dim_w):\n",
    "\n",
    "            self.model.w[dim]-=h\n",
    "            Q0=self.loss(x)\n",
    "\n",
    "            self.model.w[dim]+=2*h\n",
    "            Q1=self.loss(x) \n",
    "            \n",
    "            self.model.w[dim]-=h\n",
    "\n",
    "            self.grad[dim]=(Q1-Q0)/(2*h)\n",
    "\n",
    "    \n",
    "    \n"
   ]
  },
  {
   "cell_type": "code",
   "execution_count": null,
   "metadata": {},
   "outputs": [],
   "source": []
  },
  {
   "cell_type": "code",
   "execution_count": null,
   "metadata": {},
   "outputs": [],
   "source": []
  }
 ],
 "metadata": {
  "kernelspec": {
   "display_name": "Python 3",
   "language": "python",
   "name": "python3"
  },
  "language_info": {
   "codemirror_mode": {
    "name": "ipython",
    "version": 3
   },
   "file_extension": ".py",
   "mimetype": "text/x-python",
   "name": "python",
   "nbconvert_exporter": "python",
   "pygments_lexer": "ipython3",
   "version": "3.7.7"
  }
 },
 "nbformat": 4,
 "nbformat_minor": 4
}
