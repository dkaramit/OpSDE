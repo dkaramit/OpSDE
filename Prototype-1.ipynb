{
 "cells": [
  {
   "cell_type": "code",
   "execution_count": 1,
   "metadata": {},
   "outputs": [],
   "source": [
    "import numpy as np\n",
    "\n",
    "\n",
    "import matplotlib\n",
    "matplotlib.use('nbAgg')\n",
    "import matplotlib.pyplot as plt"
   ]
  },
  {
   "cell_type": "code",
   "execution_count": null,
   "metadata": {},
   "outputs": [],
   "source": []
  },
  {
   "cell_type": "code",
   "execution_count": 2,
   "metadata": {},
   "outputs": [],
   "source": [
    "class modelFunc:\n",
    "    def __init__(self,func,w0,dim_w,dim_x,dim_fx):\n",
    "        self.func=func\n",
    "        self.w=w0\n",
    "        self.dim_w=dim_w\n",
    "        self.dim_x=dim_x\n",
    "        self.dim_fx=dim_fx\n",
    "        \n",
    "        \n",
    "        self.J=[[0 for _1 in range(self.dim_x)] for _2 in range(self.dim_fx)]\n",
    "        \n",
    "        \n",
    "    def __call__(self,x):\n",
    "        return self.func(self,x)\n",
    "    \n",
    "    def Jacobian(self,x,h=1e-5):\n",
    "        x0=x[:]\n",
    "        x1=x[:]\n",
    "        for i in range(self.dim_fx):\n",
    "            for j in range(self.dim_x):\n",
    "                x0[j]=x[j]-h\n",
    "                x1[j]=x[j]+h\n",
    "                \n",
    "                self.J[i][j]=(self(x1)[i]-self(x0)[i])/(2*h)\n",
    "        \n",
    "                x0[j]=x[j]\n",
    "                x1[j]=x[j]\n",
    "        \n"
   ]
  },
  {
   "cell_type": "code",
   "execution_count": 3,
   "metadata": {},
   "outputs": [],
   "source": [
    "class DifferentialEquation:\n",
    "    def __init__(self,model,rhs,x0,fx0,ranges):\n",
    "        self.model=model\n",
    "        self.rhs=rhs\n",
    "        self.x0=x0\n",
    "        self.fx0=fx0\n",
    "        self.ranges=ranges\n",
    "        \n",
    "        self.grad=[0 for i in  range(self.model.dim_w)]\n",
    "        \n",
    "    def RHS(self,x):\n",
    "        return self.rhs(self.model,x)\n",
    "    \n",
    "    def loss(self,x):\n",
    "        Nx=self.model.dim_fx*self.model.dim_x\n",
    "        \n",
    "        Qx=0        \n",
    "        self.model.Jacobian(x)\n",
    "        RHS=self.RHS(x)\n",
    "        \n",
    "        for i in range(self.model.dim_fx):\n",
    "            for j in range(self.model.dim_x):\n",
    "                Qx+=(self.model.J[i][j]-RHS[i][j])**2\n",
    "        \n",
    "        N0=self.model.dim_fx\n",
    "        Qx0=0\n",
    "        mx0=self.model(self.x0)\n",
    "        for i,fx0 in enumerate(self.fx0):\n",
    "            Qx0+=(fx0 - mx0[i])**2\n",
    "\n",
    "        \n",
    "        Q=Qx/Nx+Qx0/N0\n",
    "        return Q/2.\n",
    "    \n",
    "    \n",
    "    def lossGrad(self,x,h=1e-5):\n",
    "        \n",
    "        for dim in range(self.model.dim_w):\n",
    "\n",
    "            self.model.w[dim]-=h\n",
    "            Q0=self.loss(x)\n",
    "\n",
    "            self.model.w[dim]+=2*h\n",
    "            Q1=self.loss(x) \n",
    "            \n",
    "            self.model.w[dim]-=h\n",
    "\n",
    "            self.grad[dim]=(Q1-Q0)/(2*h)\n",
    "\n",
    "    \n",
    "    \n",
    "    def update(self,alpha=1e-2,abs_tol=1e-5, rel_tol=1e-3):\n",
    "        x=[np.random.rand()*(r[1]-r[0])+r[0] for r in self.ranges]      \n",
    "        \n",
    "        self.lossGrad(x)\n",
    "        _w2=0\n",
    "        _check=0\n",
    "        for i,g in enumerate(self.grad):\n",
    "            self.model.w[i]+=-alpha*g\n",
    "            \n",
    "            _w2=abs_tol + self.model.w[i] * rel_tol\n",
    "            _check+=(g/_w2)*(g/_w2)\n",
    "\n",
    "        _check=np.sqrt(1./self.model.dim_w *_check)\n",
    "        \n",
    "        \n",
    "        \n",
    "        return _check\n",
    "        \n",
    "        \n",
    "        \n",
    "    def run(self,alpha=1e-2,abs_tol=1e-5, rel_tol=1e-3, step_break=100,max_step=5000):\n",
    "        '''        \n",
    "        abs_tol, rel_tol, step_break: stop when _check<1 (_check is what update should return) \n",
    "        for step_break consecutive steps\n",
    "        \n",
    "        max_step: maximum number of steps\n",
    "        '''\n",
    "        _s=0\n",
    "        count_steps=1\n",
    "        while count_steps<=max_step:\n",
    "            _check=self.update(alpha,abs_tol, rel_tol)\n",
    "            \n",
    "            count_steps+=1             \n",
    "                \n",
    "            \n",
    "            if _check<1:\n",
    "                _s+=1\n",
    "            else:\n",
    "                _s=0\n",
    "            \n",
    "            if _s>step_break:\n",
    "                break\n",
    "\n",
    "        return self.model.w[:]"
   ]
  },
  {
   "cell_type": "code",
   "execution_count": 4,
   "metadata": {},
   "outputs": [],
   "source": [
    "def func(self,x):\n",
    "    return [self.w[0]*np.exp(-self.w[1]*x[0]),self.w[2]*x[0]**2+self.w[3]]\n",
    "\n",
    "def RHS(func,x):\n",
    "    '''\n",
    "    df1dx1=-2*f1(x1)\n",
    "    df2dx1=2*x1\n",
    "    '''\n",
    "    fx=func(x)\n",
    "    return [[-2*fx[0]],[2*x[0]]]"
   ]
  },
  {
   "cell_type": "code",
   "execution_count": 5,
   "metadata": {},
   "outputs": [],
   "source": [
    "Model=modelFunc(\n",
    "    func=func,\n",
    "    w0=[0,1,-1,0],\n",
    "    dim_w=4,\n",
    "    dim_x=1,\n",
    "    dim_fx=2)\n",
    "\n",
    "DE=DifferentialEquation(Model,RHS,[0],[1,-1],ranges=[[0,1]])"
   ]
  },
  {
   "cell_type": "code",
   "execution_count": 6,
   "metadata": {},
   "outputs": [
    {
     "data": {
      "text/plain": [
       "[0.9999761687201554,\n",
       " 1.9925072279997103,\n",
       " 1.0000000000029117,\n",
       " -0.9999999988591718]"
      ]
     },
     "execution_count": 6,
     "metadata": {},
     "output_type": "execute_result"
    }
   ],
   "source": [
    "DE.run()"
   ]
  },
  {
   "cell_type": "code",
   "execution_count": null,
   "metadata": {},
   "outputs": [],
   "source": []
  },
  {
   "cell_type": "code",
   "execution_count": null,
   "metadata": {},
   "outputs": [],
   "source": []
  }
 ],
 "metadata": {
  "kernelspec": {
   "display_name": "Python 3",
   "language": "python",
   "name": "python3"
  },
  "language_info": {
   "codemirror_mode": {
    "name": "ipython",
    "version": 3
   },
   "file_extension": ".py",
   "mimetype": "text/x-python",
   "name": "python",
   "nbconvert_exporter": "python",
   "pygments_lexer": "ipython3",
   "version": "3.7.7"
  }
 },
 "nbformat": 4,
 "nbformat_minor": 4
}
