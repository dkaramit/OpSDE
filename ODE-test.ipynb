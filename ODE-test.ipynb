{
 "cells": [
  {
   "cell_type": "markdown",
   "metadata": {},
   "source": [
    "Let's try to solve a first order differential equation using a guess (model) function. This function will be used to adjust the parameters so that the left- and right-hand side of the ODE are as close as possible. "
   ]
  },
  {
   "cell_type": "code",
   "execution_count": 1,
   "metadata": {},
   "outputs": [],
   "source": [
    "import os\n",
    "\n",
    "os.chdir('Optimizers/Gradient-Descent/python/')\n",
    "import GD as GD \n",
    "os.chdir('../../../')\n",
    "\n",
    "import numpy as np"
   ]
  },
  {
   "cell_type": "markdown",
   "metadata": {},
   "source": [
    "For example, consider the ODE\n",
    "$$\n",
    "\\dfrac{dy}{dt}= G(y(t);t) \\;,\n",
    "$$\n",
    "for $t \\in [0,T]$ with $y(0)=y_0$.\n",
    "\n",
    "we can use a function, $f(t;\\{w\\})$, that depends on severan parameters (e.g. $f(t;\\{w\\}) = \\sum_{i=0}^{N} w_i \\ t^i$) in order to model the solution.\n",
    "\n",
    "The key point here is that we are not going to fit the model in the entire $t \\in [0,T]$. we are only going to ask for a the values of $y$ for a few points in $t$. \n",
    "\n",
    "Given a list of $t=t_1,t_2 \\dots$ for which we wish to find $y(t_i)$. We, then, minimize \n",
    "$$\n",
    "Q(\\{w\\}) = \\dfrac{1}{2}\\Bigg[\\left(f(0;\\{w\\})-y_0\\right)^2 +\\left(\\dfrac{df(t;\\{w\\})}{dt}- G\\Big( \\ f(t;\\{w\\}),t\\Big)\\right)_{t=t_1}^2 \\Bigg]\\;.\n",
    "$$\n",
    "When this is minimized, we have the values for the $w$ which define a function that has the same initial condition as $y$ and obeys the ODE at $t=t_1$. Once this is done $t=t_1$, we store the value $y(t_1)=f(t_1;\\{w\\})$, and we do the same for the other points."
   ]
  },
  {
   "cell_type": "markdown",
   "metadata": {},
   "source": [
    "What we need is $\\nabla_{w_i} \\ Q(\\{w\\})$, which will be used from the optimizer."
   ]
  },
  {
   "cell_type": "code",
   "execution_count": null,
   "metadata": {},
   "outputs": [],
   "source": []
  },
  {
   "cell_type": "code",
   "execution_count": null,
   "metadata": {},
   "outputs": [],
   "source": []
  },
  {
   "cell_type": "markdown",
   "metadata": {},
   "source": [
    "Let's say we want to solve \n",
    "$$\n",
    "\\dfrac{dy}{dt}=-sin(t) \\;, \\; \\text{ with} \\;\\; y(0)=1 \\;.\n",
    "$$\n",
    "\n",
    "In order to solve it, we will use a model function:\n",
    "$$\n",
    "y=w_0 \\ sin(w_1 \\ t) + w_2 \\ cos(w_3 \\ t).\n",
    "$$"
   ]
  },
  {
   "cell_type": "code",
   "execution_count": null,
   "metadata": {},
   "outputs": [],
   "source": []
  },
  {
   "cell_type": "code",
   "execution_count": null,
   "metadata": {},
   "outputs": [],
   "source": []
  },
  {
   "cell_type": "code",
   "execution_count": null,
   "metadata": {},
   "outputs": [],
   "source": []
  },
  {
   "cell_type": "code",
   "execution_count": null,
   "metadata": {},
   "outputs": [],
   "source": []
  },
  {
   "cell_type": "code",
   "execution_count": null,
   "metadata": {},
   "outputs": [],
   "source": []
  },
  {
   "cell_type": "markdown",
   "metadata": {},
   "source": [
    "Define the model function."
   ]
  },
  {
   "cell_type": "code",
   "execution_count": 2,
   "metadata": {},
   "outputs": [],
   "source": [
    "class modelFunc(GD.modelBase):\n",
    "    def __init__(self,dimensions,w0,h=1e-8):\n",
    "        GD.modelBase.__init__(self,dimensions,w0)\n",
    "        \n",
    "        self.dsdx=[0 for _ in range(dimensions[1])]\n",
    "        self.h=h\n",
    "        \n",
    "    def __call__(self):\n",
    "        self.signal[0]=np.sin(self.input*self.w[1])*self.w[0]+np.cos(self.input*self.w[3])*self.w[2]\n",
    "        \n",
    "        \n",
    "    def derivative_x(self):\n",
    "        _x=self.input\n",
    "        heff=np.abs(_x)*self.h+self.h\n",
    "        \n",
    "        for j in range(self.dimensions[1]):\n",
    "            _x-=heff\n",
    "            self.setInput(_x)\n",
    "            self()\n",
    "            f0=self.signal[j]\n",
    "            \n",
    "            _x+=2*heff\n",
    "            self.setInput(_x)\n",
    "            self()\n",
    "            f1=self.signal[j]\n",
    "            \n",
    "            self.dsdx[j]=(f1-f0)/(2*heff)\n",
    "            \n",
    "            _x-=heff\n",
    "            self.setInput(_x)\n",
    "            \n",
    "    \n",
    "    def derivative_w(self,i):\n",
    "        heff=np.abs(self.w[i])*self.h+self.h\n",
    "        \n",
    "        for j in range(self.dimensions[1]):\n",
    "            self.w[i]-=heff\n",
    "            self()\n",
    "            f0=self.signal[j]\n",
    "            \n",
    "            self.w[i]+=2*heff\n",
    "            self()\n",
    "            f1=self.signal[j]\n",
    "            \n",
    "            self.dsdw[j]=(f1-f0)/(2*heff)\n",
    "            \n",
    "            self.w[i]-=heff\n"
   ]
  },
  {
   "cell_type": "markdown",
   "metadata": {},
   "source": [
    "Define the region in which you want to solve the ODE, and the initial condition."
   ]
  },
  {
   "cell_type": "code",
   "execution_count": 3,
   "metadata": {},
   "outputs": [],
   "source": [
    "class Boundary:\n",
    "    def __init__(self,model,points,y0):\n",
    "        '''\n",
    "        model: the model function\n",
    "        points: the points at which we want the solution\n",
    "        y0: the value of y at points[0]\n",
    "        '''\n",
    "        self.model=model\n",
    "        self.points=points[:]\n",
    "        self.y0=y0\n",
    "        \n",
    "        self.currentPoint=0#the current index of points we are evaluating\n",
    "        self.maxPoints=len(points)\n",
    "        self.complete=False#switch to True when self.currentPoint=self.maxPoints\n",
    "        \n",
    "        \n",
    "        self.boundary_diff=[0 for _ in range(model.dimensions[1])]\n",
    "        \n",
    "        self.model.setInput(self.points[0])#start at points[0]\n",
    "        \n",
    "    def boundaryDifference(self):\n",
    "        '''\n",
    "        get the difference between self.y0 and the output of the model for model.input=points[0]\n",
    "        '''\n",
    "        tmp_x=self.model.input\n",
    "        \n",
    "        self.model.setInput(self.points[0])\n",
    "        \n",
    "        self.model()\n",
    "        for i,_y in enumerate(self.y0):\n",
    "            self.boundary_diff[i]=self.model.signal[i] -_y \n",
    "            \n",
    "        self.model.setInput(tmp_x)\n",
    "        \n",
    "            \n",
    "        \n",
    "            \n",
    "    def nextPoint(self):\n",
    "        '''get the next point in points and set it ass input for the model'''\n",
    "        if self.currentPoint==self.maxPoints-1:\n",
    "            self.complete=True\n",
    "        else:\n",
    "            self.currentPoint+=1\n",
    "            self.model.setInput(self.points[self.currentPoint])\n"
   ]
  },
  {
   "cell_type": "code",
   "execution_count": 4,
   "metadata": {},
   "outputs": [],
   "source": [
    "model=modelFunc([1,1],[0.1,0.3,0.4,0.5])"
   ]
  },
  {
   "cell_type": "code",
   "execution_count": 5,
   "metadata": {},
   "outputs": [],
   "source": [
    "boundary=Boundary(model,np.linspace(0,1,5),[1])"
   ]
  },
  {
   "cell_type": "markdown",
   "metadata": {},
   "source": [
    "define the ODE, which also defines the loss."
   ]
  },
  {
   "cell_type": "code",
   "execution_count": 6,
   "metadata": {},
   "outputs": [],
   "source": [
    "class DifferentialEquation:\n",
    "    def __init__(self,Model,Boundary):\n",
    "        \n",
    "        self.model=Model\n",
    "        self.boundary=Boundary\n",
    "        \n",
    "        self.DE=[0 for _ in range(self.model.dimensions[1])]#this should be LHS-RHS, which we want to be 0 (see definition of __call__)\n",
    "        \n",
    "        self.grad=[0 for i in  range(self.model.dim)]\n",
    "        \n",
    "        \n",
    "    def __call__(self):\n",
    "        self.model.derivative_x()\n",
    "        for i,dMdt in enumerate(self.model.dsdx):\n",
    "            self.DE[i] = dMdt+np.sin(self.model.input)\n",
    "        \n",
    "        \n",
    "    \n",
    "    def averageLoss(self):\n",
    "        self.boundary.boundaryDifference()\n",
    "        self()\n",
    "        avrgLoss=0\n",
    "        for i in range(self.model.dimensions[1]):\n",
    "            avrgLoss+=(self.boundary.boundary_diff[i]**2+self.DE[i]**2)/2.\n",
    "        \n",
    "        return avrgLoss/float(self.model.dimensions[1])\n",
    "        \n",
    "\n",
    "    def averageGrad(self,h=1e-5):\n",
    "        '''Get the gradient of the averge loss at current point and a random boundary point'''\n",
    "        \n",
    "        for dim in range(self.model.dim):\n",
    "            heff=h*np.abs(self.model.w[dim])+h\n",
    "            \n",
    "            self.model.w[dim]-=heff\n",
    "            Q0=self.averageLoss()\n",
    "\n",
    "            self.model.w[dim]+=2*heff\n",
    "            Q1=self.averageLoss()\n",
    "            \n",
    "            self.grad[dim]=(Q1-Q0)/(2.*heff)\n",
    "\n",
    "            self.model.w[dim]-=heff\n",
    "        \n"
   ]
  },
  {
   "cell_type": "code",
   "execution_count": 7,
   "metadata": {},
   "outputs": [],
   "source": [
    "model=modelFunc([1,1],[0,0,.3,2])\n",
    "boundary=Boundary(model,np.linspace(0,3.14159,10),[-1])"
   ]
  },
  {
   "cell_type": "code",
   "execution_count": 8,
   "metadata": {},
   "outputs": [],
   "source": [
    "ODE=DifferentialEquation(model,boundary)\n",
    "# gd=GD.VanillaGD(ODE,alpha=1e-2)\n",
    "# gd=GD.RMSpropGD(ODE,gamma=1-1e-2,epsilon=1e-5,alpha=1e-2)\n",
    "# gd=GD.AdaDeltaGD(ODE,gamma=0.99,epsilon=1e-5,alpha=1)\n",
    "# gd=GD.AdamGD(Q,beta_m=0.9,beta_v=0.999,epsilon=1e-8,alpha=1e-2)\n",
    "# gd=GD.AdaMaxGD(ODE,beta_m=0.9,beta_v=0.999,epsilon=1e-8,alpha=1e-1)\n",
    "gd=GD.NAdamGD(ODE,beta_m=0.9,beta_v=0.999,epsilon=1e-8,alpha=1e-2)"
   ]
  },
  {
   "cell_type": "code",
   "execution_count": 9,
   "metadata": {},
   "outputs": [],
   "source": [
    "t=[]\n",
    "y=[]\n",
    "while not boundary.complete:\n",
    "    gd.run(abs_tol=1e-3, rel_tol=1e-3, step_break=5000,max_step=5000)\n",
    "\n",
    "    model()\n",
    "    \n",
    "    t.append(model.input)\n",
    "    y.append(model.signal[0])\n",
    "    model.w=[0,0,.3,2]\n",
    "    \n",
    "    boundary.nextPoint()\n",
    "    \n",
    "t=np.array(t)\n",
    "y=np.array(y)"
   ]
  },
  {
   "cell_type": "code",
   "execution_count": 14,
   "metadata": {},
   "outputs": [
    {
     "data": {
      "text/plain": [
       "array([-1.        , -0.93969272, -0.76604482, -0.50000077, -0.17364934,\n",
       "        0.17364673,  0.49999847,  0.76604312,  0.93969181,  1.        ])"
      ]
     },
     "execution_count": 14,
     "metadata": {},
     "output_type": "execute_result"
    }
   ],
   "source": [
    "-np.cos(t)"
   ]
  },
  {
   "cell_type": "code",
   "execution_count": 11,
   "metadata": {},
   "outputs": [
    {
     "data": {
      "text/plain": [
       "array([-1.        , -1.24762572, -2.35243963, -0.91343384, -3.10716878,\n",
       "        0.34611009,  0.85887029,  0.89945666, -1.16272495, -0.99992536])"
      ]
     },
     "execution_count": 11,
     "metadata": {},
     "output_type": "execute_result"
    }
   ],
   "source": [
    "y"
   ]
  },
  {
   "cell_type": "code",
   "execution_count": 12,
   "metadata": {},
   "outputs": [
    {
     "data": {
      "text/plain": [
       "[-0.007943209743849365]"
      ]
     },
     "execution_count": 12,
     "metadata": {},
     "output_type": "execute_result"
    }
   ],
   "source": [
    "model.dsdx"
   ]
  },
  {
   "cell_type": "code",
   "execution_count": 13,
   "metadata": {},
   "outputs": [
    {
     "data": {
      "text/plain": [
       "[0, 0, 0.3, 2]"
      ]
     },
     "execution_count": 13,
     "metadata": {},
     "output_type": "execute_result"
    }
   ],
   "source": [
    "model.w"
   ]
  },
  {
   "cell_type": "code",
   "execution_count": null,
   "metadata": {},
   "outputs": [],
   "source": []
  }
 ],
 "metadata": {
  "kernelspec": {
   "display_name": "Python 3",
   "language": "python",
   "name": "python3"
  },
  "language_info": {
   "codemirror_mode": {
    "name": "ipython",
    "version": 3
   },
   "file_extension": ".py",
   "mimetype": "text/x-python",
   "name": "python",
   "nbconvert_exporter": "python",
   "pygments_lexer": "ipython3",
   "version": "3.8.3"
  }
 },
 "nbformat": 4,
 "nbformat_minor": 4
}
