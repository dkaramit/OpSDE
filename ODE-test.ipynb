{
 "cells": [
  {
   "cell_type": "markdown",
   "metadata": {},
   "source": [
    "Let's try to solve a first order differential equation using a guess (model) function. This function will be used to adjust the parameters so that the left- and right-hand side of the ODE are as close as possible. "
   ]
  },
  {
   "cell_type": "code",
   "execution_count": 1,
   "metadata": {},
   "outputs": [],
   "source": [
    "import os\n",
    "\n",
    "os.chdir('Optimizers/Gradient-Descent/python/')\n",
    "import GD \n",
    "os.chdir('../../../')\n",
    "\n",
    "import numpy as np"
   ]
  },
  {
   "cell_type": "markdown",
   "metadata": {},
   "source": [
    "For example, consider the ODE\n",
    "$$\n",
    "\\dfrac{dy}{dt}= G(y(t);t) \\;,\n",
    "$$\n",
    "for $t \\in [0,T]$ with $y(0)=y_0$.\n",
    "\n",
    "we can use a function, $f(t;\\{w\\})$, that depends on severan parameters (e.g. $f(t;\\{w\\}) = \\sum_{i=0}^{N} w_i \\ t^i$) in order to model the solution.\n",
    "\n",
    "The key point here is that we are not going to fit the model in the entire $t \\in [0,T]$. we are only going to ask for a the values of $y$ for a few points in $t$. \n",
    "\n",
    "Given a list of $t=t_1,t_2 \\dots$ for which we wish to find $y(t_i)$. We, then, minimize \n",
    "$$\n",
    "Q(\\{w\\}) = \\dfrac{1}{2}\\Bigg[\\left(f(0;\\{w\\})-y_0\\right)^2 +\\left(\\dfrac{df(t;\\{w\\})}{dt}- G\\Big( \\ f(t;\\{w\\}),t\\Big)\\right)_{t=t_1}^2 \\Bigg]\\;.\n",
    "$$\n",
    "When this is minimized, we have the values for the $w$ which define a function that has the same initial condition as $y$ and obeys the ODE at $t=t_1$. Once this is done $t=t_1$, we store the value $y(t_1)=f(t_1;\\{w\\})$, and we do the same for the other points."
   ]
  },
  {
   "cell_type": "markdown",
   "metadata": {},
   "source": [
    "What we need is $\\nabla_{w_i} \\ Q(\\{w\\})$, which will be used from the optimizer."
   ]
  },
  {
   "cell_type": "code",
   "execution_count": null,
   "metadata": {},
   "outputs": [],
   "source": []
  }
 ],
 "metadata": {
  "kernelspec": {
   "display_name": "Python 3",
   "language": "python",
   "name": "python3"
  },
  "language_info": {
   "codemirror_mode": {
    "name": "ipython",
    "version": 3
   },
   "file_extension": ".py",
   "mimetype": "text/x-python",
   "name": "python",
   "nbconvert_exporter": "python",
   "pygments_lexer": "ipython3",
   "version": "3.8.3"
  }
 },
 "nbformat": 4,
 "nbformat_minor": 4
}
